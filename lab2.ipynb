{
 "cells": [
  {
   "cell_type": "markdown",
   "id": "3d8eeb75",
   "metadata": {},
   "source": [
    "## Lab | Feature engineering"
   ]
  },
  {
   "cell_type": "code",
   "execution_count": 1,
   "id": "65c1f1b0",
   "metadata": {},
   "outputs": [],
   "source": [
    "import pandas as pd\n",
    "import numpy as np\n",
    "import matplotlib.pyplot as plt\n",
    "import seaborn as sns \n",
    "pd.set_option('display.max_columns', None)"
   ]
  },
  {
   "cell_type": "code",
   "execution_count": 2,
   "id": "84fd923e",
   "metadata": {},
   "outputs": [
    {
     "name": "stderr",
     "output_type": "stream",
     "text": [
      "C:\\Users\\Admin\\AppData\\Local\\Temp\\ipykernel_17008\\2213626359.py:1: DtypeWarning: Columns (8) have mixed types. Specify dtype option on import or set low_memory=False.\n",
      "  data = pd.read_csv('C:/Users/Admin/Documents/ironhack/Week_7/Day_1/learningSet.csv')\n"
     ]
    }
   ],
   "source": [
    "data = pd.read_csv('C:/Users/Admin/Documents/ironhack/Week_7/Day_1/learningSet.csv')"
   ]
  },
  {
   "cell_type": "markdown",
   "id": "4f3aac92",
   "metadata": {},
   "source": [
    "#### Check for null values in the numerical columns."
   ]
  },
  {
   "cell_type": "code",
   "execution_count": 13,
   "id": "06304774",
   "metadata": {},
   "outputs": [],
   "source": [
    "data1 = data.copy()"
   ]
  },
  {
   "cell_type": "code",
   "execution_count": 25,
   "id": "a7850001",
   "metadata": {},
   "outputs": [
    {
     "data": {
      "text/html": [
       "<div>\n",
       "<style scoped>\n",
       "    .dataframe tbody tr th:only-of-type {\n",
       "        vertical-align: middle;\n",
       "    }\n",
       "\n",
       "    .dataframe tbody tr th {\n",
       "        vertical-align: top;\n",
       "    }\n",
       "\n",
       "    .dataframe thead th {\n",
       "        text-align: right;\n",
       "    }\n",
       "</style>\n",
       "<table border=\"1\" class=\"dataframe\">\n",
       "  <thead>\n",
       "    <tr style=\"text-align: right;\">\n",
       "      <th></th>\n",
       "      <th>column_name</th>\n",
       "      <th>nulls_percentage</th>\n",
       "    </tr>\n",
       "  </thead>\n",
       "  <tbody>\n",
       "    <tr>\n",
       "      <th>0</th>\n",
       "      <td>ODATEDW</td>\n",
       "      <td>0.000000</td>\n",
       "    </tr>\n",
       "    <tr>\n",
       "      <th>1</th>\n",
       "      <td>TCODE</td>\n",
       "      <td>0.000000</td>\n",
       "    </tr>\n",
       "    <tr>\n",
       "      <th>2</th>\n",
       "      <td>DOB</td>\n",
       "      <td>0.000000</td>\n",
       "    </tr>\n",
       "    <tr>\n",
       "      <th>3</th>\n",
       "      <td>AGE</td>\n",
       "      <td>0.248030</td>\n",
       "    </tr>\n",
       "    <tr>\n",
       "      <th>4</th>\n",
       "      <td>NUMCHLD</td>\n",
       "      <td>0.870184</td>\n",
       "    </tr>\n",
       "    <tr>\n",
       "      <th>...</th>\n",
       "      <td>...</td>\n",
       "      <td>...</td>\n",
       "    </tr>\n",
       "    <tr>\n",
       "      <th>402</th>\n",
       "      <td>TARGET_B</td>\n",
       "      <td>0.000000</td>\n",
       "    </tr>\n",
       "    <tr>\n",
       "      <th>403</th>\n",
       "      <td>TARGET_D</td>\n",
       "      <td>0.000000</td>\n",
       "    </tr>\n",
       "    <tr>\n",
       "      <th>404</th>\n",
       "      <td>HPHONE_D</td>\n",
       "      <td>0.000000</td>\n",
       "    </tr>\n",
       "    <tr>\n",
       "      <th>405</th>\n",
       "      <td>RFA_2F</td>\n",
       "      <td>0.000000</td>\n",
       "    </tr>\n",
       "    <tr>\n",
       "      <th>406</th>\n",
       "      <td>CLUSTER2</td>\n",
       "      <td>0.001383</td>\n",
       "    </tr>\n",
       "  </tbody>\n",
       "</table>\n",
       "<p>407 rows × 2 columns</p>\n",
       "</div>"
      ],
      "text/plain": [
       "    column_name  nulls_percentage\n",
       "0       ODATEDW          0.000000\n",
       "1         TCODE          0.000000\n",
       "2           DOB          0.000000\n",
       "3           AGE          0.248030\n",
       "4       NUMCHLD          0.870184\n",
       "..          ...               ...\n",
       "402    TARGET_B          0.000000\n",
       "403    TARGET_D          0.000000\n",
       "404    HPHONE_D          0.000000\n",
       "405      RFA_2F          0.000000\n",
       "406    CLUSTER2          0.001383\n",
       "\n",
       "[407 rows x 2 columns]"
      ]
     },
     "execution_count": 25,
     "metadata": {},
     "output_type": "execute_result"
    }
   ],
   "source": [
    "numerical = data1.select_dtypes(np.number)\n",
    "numerical_df = pd.DataFrame(numerical.isna().sum()/len(data)).reset_index()\n",
    "numerical_df.columns = ['column_name', 'nulls_percentage']\n",
    "numerical_df"
   ]
  },
  {
   "cell_type": "markdown",
   "id": "349d3fee",
   "metadata": {},
   "source": [
    "#### Use appropriate methods to clean the columns GEOCODE2, WEALTH1, ADI, DMA,and MSA."
   ]
  },
  {
   "cell_type": "code",
   "execution_count": 59,
   "id": "7def453c",
   "metadata": {},
   "outputs": [],
   "source": [
    "#data1['GEOCODE2'].value_counts(dropna = False)\n",
    "# we have 187 values that are unknown, 132 NaN\n",
    "#categorise unknow values to 'other'"
   ]
  },
  {
   "cell_type": "code",
   "execution_count": 52,
   "id": "e31960fa",
   "metadata": {},
   "outputs": [
    {
     "data": {
      "text/plain": [
       "A        34484\n",
       "B        28505\n",
       "D        16580\n",
       "C        15524\n",
       "other      319\n",
       "Name: GEOCODE2, dtype: int64"
      ]
     },
     "execution_count": 52,
     "metadata": {},
     "output_type": "execute_result"
    }
   ],
   "source": [
    "data1['GEOCODE2'] = data1['GEOCODE2'].apply(lambda x: x if x in ['A','B','C','D'] else 'other')\n",
    "data1['GEOCODE2'].value_counts(dropna = False)"
   ]
  },
  {
   "cell_type": "markdown",
   "id": "82f35828",
   "metadata": {},
   "source": [
    "#### Categorising the WEALTH into 3 different parts"
   ]
  },
  {
   "cell_type": "code",
   "execution_count": 83,
   "id": "2f321115",
   "metadata": {},
   "outputs": [
    {
     "data": {
      "text/plain": [
       "(6.0, 9.0]                      20576\n",
       "(3.0, 6.0]                      15915\n",
       "(-0.009999999999999998, 3.0]    14189\n",
       "Name: WEALTH1, dtype: int64"
      ]
     },
     "execution_count": 83,
     "metadata": {},
     "output_type": "execute_result"
    }
   ],
   "source": [
    "# can we categorise the wealth ..?\n",
    "binned_data = data1['WEALTH1'].value_counts(bins=3)\n",
    "#lets put them into 3 categories\n",
    "binned_data"
   ]
  },
  {
   "cell_type": "code",
   "execution_count": null,
   "id": "363a4ac4",
   "metadata": {},
   "outputs": [],
   "source": [
    "Rearranging the ADI and MSA into decreasing order"
   ]
  },
  {
   "cell_type": "code",
   "execution_count": 100,
   "id": "bc14d9b2",
   "metadata": {},
   "outputs": [
    {
     "data": {
      "text/plain": [
       "ADI  \n",
       "651.0       1\n",
       "147.0       1\n",
       "161.0       1\n",
       "103.0       1\n",
       "601.0       1\n",
       "         ... \n",
       "105.0    2617\n",
       "57.0     2836\n",
       "65.0     3765\n",
       "51.0     4622\n",
       "13.0     7296\n",
       "Length: 204, dtype: int64"
      ]
     },
     "execution_count": 100,
     "metadata": {},
     "output_type": "execute_result"
    }
   ],
   "source": [
    "data1[['ADI']].value_counts(ascending=True)"
   ]
  },
  {
   "cell_type": "code",
   "execution_count": 101,
   "id": "91f5f285",
   "metadata": {},
   "outputs": [
    {
     "data": {
      "text/plain": [
       "516.0       1\n",
       "584.0       1\n",
       "569.0       1\n",
       "554.0       1\n",
       "552.0       1\n",
       "         ... \n",
       "819.0    2588\n",
       "505.0    2839\n",
       "807.0    3765\n",
       "602.0    4632\n",
       "803.0    7296\n",
       "Name: DMA, Length: 206, dtype: int64"
      ]
     },
     "execution_count": 101,
     "metadata": {},
     "output_type": "execute_result"
    }
   ],
   "source": [
    "data1['DMA'].value_counts(ascending=True)"
   ]
  },
  {
   "cell_type": "code",
   "execution_count": 102,
   "id": "7e2ce848",
   "metadata": {},
   "outputs": [
    {
     "data": {
      "text/plain": [
       "MSA   \n",
       "0.0       21333\n",
       "4480.0     4606\n",
       "1600.0     4059\n",
       "2160.0     2586\n",
       "520.0      1685\n",
       "6780.0     1525\n",
       "5945.0     1500\n",
       "7320.0     1472\n",
       "7600.0     1457\n",
       "3360.0     1414\n",
       "dtype: int64"
      ]
     },
     "execution_count": 102,
     "metadata": {},
     "output_type": "execute_result"
    }
   ],
   "source": [
    "data1[['MSA']].value_counts().head(10)"
   ]
  },
  {
   "cell_type": "code",
   "execution_count": 68,
   "id": "0cac1b7f",
   "metadata": {},
   "outputs": [
    {
     "data": {
      "text/plain": [
       "1320.0    1\n",
       "8003.0    1\n",
       "1540.0    1\n",
       "2975.0    1\n",
       "9000.0    1\n",
       "9140.0    1\n",
       "3200.0    1\n",
       "9280.0    1\n",
       "743.0     1\n",
       "8480.0    1\n",
       "Name: MSA, dtype: int64"
      ]
     },
     "execution_count": 68,
     "metadata": {},
     "output_type": "execute_result"
    }
   ],
   "source": [
    "data1['MSA'].value_counts().tail(10)\n"
   ]
  },
  {
   "cell_type": "markdown",
   "id": "a0c6adac",
   "metadata": {},
   "source": [
    "#### Use appropriate EDA technique where ever necessary."
   ]
  },
  {
   "cell_type": "code",
   "execution_count": null,
   "id": "516e2185",
   "metadata": {},
   "outputs": [],
   "source": [
    "# lets try to observe different distributions"
   ]
  },
  {
   "cell_type": "code",
   "execution_count": 70,
   "id": "89d44003",
   "metadata": {},
   "outputs": [
    {
     "data": {
      "text/plain": [
       "<AxesSubplot:>"
      ]
     },
     "execution_count": 70,
     "metadata": {},
     "output_type": "execute_result"
    },
    {
     "data": {
      "image/png": "[encoded data removed]",
      "text/plain": [
       "<Figure size 432x288 with 1 Axes>"
      ]
     },
     "metadata": {},
     "output_type": "display_data"
    }
   ],
   "source": [
    "sns.set()\n",
    "data1['GEOCODE2'].hist()"
   ]
  },
  {
   "cell_type": "code",
   "execution_count": 92,
   "id": "d62104b8",
   "metadata": {},
   "outputs": [
    {
     "data": {
      "text/plain": [
       "<AxesSubplot:>"
      ]
     },
     "execution_count": 92,
     "metadata": {},
     "output_type": "execute_result"
    },
    {
     "data": {
      "image/png": "[encoded data removed]",
      "text/plain": [
       "<Figure size 432x288 with 1 Axes>"
      ]
     },
     "metadata": {},
     "output_type": "display_data"
    }
   ],
   "source": [
    "sns.set()\n",
    "#fig, axes = plt.subplots(1, 2)\n",
    "#sns.distplot(data=data1['WEALTH1'], x='X', y='counts', ax=axes[0])\n",
    "#sns.distplot(data=binned_data, x='X', y='counts', ax=axes[1])\n",
    "\n",
    "# without binning\n",
    "data1['WEALTH1'].hist()"
   ]
  },
  {
   "cell_type": "code",
   "execution_count": 91,
   "id": "8581afc7",
   "metadata": {},
   "outputs": [
    {
     "data": {
      "text/plain": [
       "<AxesSubplot:>"
      ]
     },
     "execution_count": 91,
     "metadata": {},
     "output_type": "execute_result"
    },
    {
     "data": {
      "image/png": "[encoded data removed]",
      "text/plain": [
       "<Figure size 432x288 with 1 Axes>"
      ]
     },
     "metadata": {},
     "output_type": "display_data"
    }
   ],
   "source": [
    "# with binning\n",
    "# binned_data = data1['WEALTH1'].value_counts(bins=3)\n",
    "binned_data.hist()\n"
   ]
  },
  {
   "cell_type": "code",
   "execution_count": 103,
   "id": "96bee495",
   "metadata": {},
   "outputs": [
    {
     "data": {
      "text/plain": [
       "<AxesSubplot:>"
      ]
     },
     "execution_count": 103,
     "metadata": {},
     "output_type": "execute_result"
    },
    {
     "data": {
      "image/png": "[encoded data removed]",
      "text/plain": [
       "<Figure size 432x288 with 1 Axes>"
      ]
     },
     "metadata": {},
     "output_type": "display_data"
    }
   ],
   "source": [
    "sns.set()\n",
    "data1[['ADI']].value_counts(ascending=True).hist()"
   ]
  },
  {
   "cell_type": "code",
   "execution_count": 104,
   "id": "e85ca861",
   "metadata": {},
   "outputs": [
    {
     "data": {
      "text/plain": [
       "<AxesSubplot:>"
      ]
     },
     "execution_count": 104,
     "metadata": {},
     "output_type": "execute_result"
    },
    {
     "data": {
      "image/png": "[encoded data removed]",
      "text/plain": [
       "<Figure size 432x288 with 1 Axes>"
      ]
     },
     "metadata": {},
     "output_type": "display_data"
    }
   ],
   "source": [
    "sns.set()\n",
    "data1[['MSA']].value_counts(ascending=True).hist()"
   ]
  },
  {
   "cell_type": "code",
   "execution_count": 95,
   "id": "4e359368",
   "metadata": {},
   "outputs": [
    {
     "data": {
      "text/plain": [
       "<AxesSubplot:>"
      ]
     },
     "execution_count": 95,
     "metadata": {},
     "output_type": "execute_result"
    },
    {
     "data": {
      "image/png": "[encoded data removed]",
      "text/plain": [
       "<Figure size 432x288 with 1 Axes>"
      ]
     },
     "metadata": {},
     "output_type": "display_data"
    }
   ],
   "source": [
    "sns.set()\n",
    "data1['MSA'].hist()"
   ]
  },
  {
   "cell_type": "code",
   "execution_count": null,
   "id": "b297b642",
   "metadata": {},
   "outputs": [],
   "source": []
  }
 ],
 "metadata": {
  "kernelspec": {
   "display_name": "Python 3 (ipykernel)",
   "language": "python",
   "name": "python3"
  },
  "language_info": {
   "codemirror_mode": {
    "name": "ipython",
    "version": 3
   },
   "file_extension": ".py",
   "mimetype": "text/x-python",
   "name": "python",
   "nbconvert_exporter": "python",
   "pygments_lexer": "ipython3",
   "version": "3.9.12"
  }
 },
 "nbformat": 4,
 "nbformat_minor": 5
}

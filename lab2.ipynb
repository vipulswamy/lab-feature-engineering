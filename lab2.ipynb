{
 "cells": [
  {
   "cell_type": "markdown",
   "id": "7171c3fd",
   "metadata": {},
   "source": [
    "## Lab | Feature engineering"
   ]
  },
  {
   "cell_type": "code",
   "execution_count": 2,
   "id": "f8a57f3e",
   "metadata": {},
   "outputs": [],
   "source": [
    "import pandas as pd\n",
    "import numpy as np\n",
    "import matplotlib.pyplot as plt\n",
    "import seaborn as sns \n",
    "pd.set_option('display.max_columns', None)"
   ]
  },
  {
   "cell_type": "code",
   "execution_count": 3,
   "id": "b9d7e294",
   "metadata": {},
   "outputs": [
    {
     "name": "stderr",
     "output_type": "stream",
     "text": [
      "C:\\Users\\Admin\\AppData\\Local\\Temp\\ipykernel_10324\\2213626359.py:1: DtypeWarning: Columns (8) have mixed types. Specify dtype option on import or set low_memory=False.\n",
      "  data = pd.read_csv('C:/Users/Admin/Documents/ironhack/Week_7/Day_1/learningSet.csv')\n"
     ]
    }
   ],
   "source": [
    "data = pd.read_csv('C:/Users/Admin/Documents/ironhack/Week_7/Day_1/learningSet.csv')"
   ]
  },
  {
   "cell_type": "markdown",
   "id": "c71f5b24",
   "metadata": {},
   "source": [
    "#### Check for null values in the numerical columns."
   ]
  },
  {
   "cell_type": "code",
   "execution_count": 4,
   "id": "75c074b8",
   "metadata": {},
   "outputs": [],
   "source": [
    "data1 = data.copy()"
   ]
  },
  {
   "cell_type": "code",
   "execution_count": 5,
   "id": "0aa85bd8",
   "metadata": {},
   "outputs": [
    {
     "data": {
      "text/html": [
       "<div>\n",
       "<style scoped>\n",
       "    .dataframe tbody tr th:only-of-type {\n",
       "        vertical-align: middle;\n",
       "    }\n",
       "\n",
       "    .dataframe tbody tr th {\n",
       "        vertical-align: top;\n",
       "    }\n",
       "\n",
       "    .dataframe thead th {\n",
       "        text-align: right;\n",
       "    }\n",
       "</style>\n",
       "<table border=\"1\" class=\"dataframe\">\n",
       "  <thead>\n",
       "    <tr style=\"text-align: right;\">\n",
       "      <th></th>\n",
       "      <th>column_name</th>\n",
       "      <th>nulls_percentage</th>\n",
       "    </tr>\n",
       "  </thead>\n",
       "  <tbody>\n",
       "    <tr>\n",
       "      <th>0</th>\n",
       "      <td>ODATEDW</td>\n",
       "      <td>0.000000</td>\n",
       "    </tr>\n",
       "    <tr>\n",
       "      <th>1</th>\n",
       "      <td>TCODE</td>\n",
       "      <td>0.000000</td>\n",
       "    </tr>\n",
       "    <tr>\n",
       "      <th>2</th>\n",
       "      <td>DOB</td>\n",
       "      <td>0.000000</td>\n",
       "    </tr>\n",
       "    <tr>\n",
       "      <th>3</th>\n",
       "      <td>AGE</td>\n",
       "      <td>0.248030</td>\n",
       "    </tr>\n",
       "    <tr>\n",
       "      <th>4</th>\n",
       "      <td>NUMCHLD</td>\n",
       "      <td>0.870184</td>\n",
       "    </tr>\n",
       "    <tr>\n",
       "      <th>...</th>\n",
       "      <td>...</td>\n",
       "      <td>...</td>\n",
       "    </tr>\n",
       "    <tr>\n",
       "      <th>402</th>\n",
       "      <td>TARGET_B</td>\n",
       "      <td>0.000000</td>\n",
       "    </tr>\n",
       "    <tr>\n",
       "      <th>403</th>\n",
       "      <td>TARGET_D</td>\n",
       "      <td>0.000000</td>\n",
       "    </tr>\n",
       "    <tr>\n",
       "      <th>404</th>\n",
       "      <td>HPHONE_D</td>\n",
       "      <td>0.000000</td>\n",
       "    </tr>\n",
       "    <tr>\n",
       "      <th>405</th>\n",
       "      <td>RFA_2F</td>\n",
       "      <td>0.000000</td>\n",
       "    </tr>\n",
       "    <tr>\n",
       "      <th>406</th>\n",
       "      <td>CLUSTER2</td>\n",
       "      <td>0.001383</td>\n",
       "    </tr>\n",
       "  </tbody>\n",
       "</table>\n",
       "<p>407 rows × 2 columns</p>\n",
       "</div>"
      ],
      "text/plain": [
       "    column_name  nulls_percentage\n",
       "0       ODATEDW          0.000000\n",
       "1         TCODE          0.000000\n",
       "2           DOB          0.000000\n",
       "3           AGE          0.248030\n",
       "4       NUMCHLD          0.870184\n",
       "..          ...               ...\n",
       "402    TARGET_B          0.000000\n",
       "403    TARGET_D          0.000000\n",
       "404    HPHONE_D          0.000000\n",
       "405      RFA_2F          0.000000\n",
       "406    CLUSTER2          0.001383\n",
       "\n",
       "[407 rows x 2 columns]"
      ]
     },
     "execution_count": 5,
     "metadata": {},
     "output_type": "execute_result"
    }
   ],
   "source": [
    "numerical = data1.select_dtypes(np.number)\n",
    "numerical_df = pd.DataFrame(numerical.isna().sum()/len(data)).reset_index()\n",
    "numerical_df.columns = ['column_name', 'nulls_percentage']\n",
    "numerical_df"
   ]
  },
  {
   "cell_type": "markdown",
   "id": "fbfeb2dd",
   "metadata": {},
   "source": [
    "#### Use appropriate methods to clean the columns GEOCODE2, WEALTH1, ADI, DMA,and MSA."
   ]
  },
  {
   "cell_type": "code",
   "execution_count": 6,
   "id": "46c54df9",
   "metadata": {},
   "outputs": [],
   "source": [
    "#data1['GEOCODE2'].value_counts(dropna = False)\n",
    "# we have 187 values that are unknown, 132 NaN\n",
    "#categorise unknow values to 'other'"
   ]
  },
  {
   "cell_type": "code",
   "execution_count": 7,
   "id": "a398ca21",
   "metadata": {},
   "outputs": [
    {
     "data": {
      "text/plain": [
       "A        34484\n",
       "B        28505\n",
       "D        16580\n",
       "C        15524\n",
       "other      319\n",
       "Name: GEOCODE2, dtype: int64"
      ]
     },
     "execution_count": 7,
     "metadata": {},
     "output_type": "execute_result"
    }
   ],
   "source": [
    "data1['GEOCODE2'] = data1['GEOCODE2'].apply(lambda x: x if x in ['A','B','C','D'] else 'other')\n",
    "data1['GEOCODE2'].value_counts(dropna = False)"
   ]
  },
  {
   "cell_type": "markdown",
   "id": "168a137d",
   "metadata": {},
   "source": [
    "#### Categorising the WEALTH into 3 different parts"
   ]
  },
  {
   "cell_type": "code",
   "execution_count": 8,
   "id": "33f99135",
   "metadata": {},
   "outputs": [
    {
     "data": {
      "text/plain": [
       "NaN    44732\n",
       "9.0     7585\n",
       "8.0     6793\n",
       "7.0     6198\n",
       "6.0     5825\n",
       "5.0     5280\n",
       "4.0     4810\n",
       "3.0     4237\n",
       "2.0     4085\n",
       "1.0     3454\n",
       "0.0     2413\n",
       "Name: WEALTH1, dtype: int64"
      ]
     },
     "execution_count": 8,
     "metadata": {},
     "output_type": "execute_result"
    }
   ],
   "source": [
    "#check for missing values\n",
    "data1['WEALTH1'].value_counts(dropna=False)"
   ]
  },
  {
   "cell_type": "markdown",
   "id": "574f1795",
   "metadata": {},
   "source": [
    "#### WELATH has null values, drop them and put them into bins"
   ]
  },
  {
   "cell_type": "code",
   "execution_count": 11,
   "id": "d31e250e",
   "metadata": {},
   "outputs": [],
   "source": [
    "data1 = data1[data1['WEALTH1'].notna()]"
   ]
  },
  {
   "cell_type": "code",
   "execution_count": 14,
   "id": "25ac8bff",
   "metadata": {},
   "outputs": [
    {
     "data": {
      "text/plain": [
       "9.0    7585\n",
       "8.0    6793\n",
       "7.0    6198\n",
       "6.0    5825\n",
       "5.0    5280\n",
       "4.0    4810\n",
       "3.0    4237\n",
       "2.0    4085\n",
       "1.0    3454\n",
       "0.0    2413\n",
       "Name: WEALTH1, dtype: int64"
      ]
     },
     "execution_count": 14,
     "metadata": {},
     "output_type": "execute_result"
    }
   ],
   "source": [
    "#check for missing values again\n",
    "data1['WEALTH1'].value_counts(dropna=False)"
   ]
  },
  {
   "cell_type": "code",
   "execution_count": 17,
   "id": "4d0a56ae",
   "metadata": {},
   "outputs": [
    {
     "data": {
      "text/plain": [
       "(6.0, 9.0]                      20576\n",
       "(3.0, 6.0]                      15915\n",
       "(-0.009999999999999998, 3.0]    14189\n",
       "Name: WEALTH1, dtype: int64"
      ]
     },
     "execution_count": 17,
     "metadata": {},
     "output_type": "execute_result"
    }
   ],
   "source": [
    "# can we categorise the wealth ..?\n",
    "binned_data = data1['WEALTH1'].value_counts(bins=3)\n",
    "#lets put them into 3 categories\n",
    "binned_data"
   ]
  },
  {
   "cell_type": "markdown",
   "id": "9fedda86",
   "metadata": {},
   "source": [
    "#### checking and updating the ADI and MSA fields"
   ]
  },
  {
   "cell_type": "markdown",
   "id": "83193ad8",
   "metadata": {},
   "source": [
    "#### Replacing NULL values - ADI"
   ]
  },
  {
   "cell_type": "code",
   "execution_count": 18,
   "id": "702c57b1",
   "metadata": {},
   "outputs": [
    {
     "data": {
      "text/plain": [
       "ADI  \n",
       "13.0     3345\n",
       "51.0     2628\n",
       "65.0     1910\n",
       "57.0     1537\n",
       "197.0    1284\n",
       "         ... \n",
       "161.0       1\n",
       "261.0       1\n",
       "287.0       1\n",
       "651.0       1\n",
       "139.0       1\n",
       "Length: 201, dtype: int64"
      ]
     },
     "execution_count": 18,
     "metadata": {},
     "output_type": "execute_result"
    }
   ],
   "source": [
    "data1[['ADI']].value_counts(dropna=False)"
   ]
  },
  {
   "cell_type": "code",
   "execution_count": 24,
   "id": "c8cec058",
   "metadata": {},
   "outputs": [
    {
     "data": {
      "text/plain": [
       "13.0"
      ]
     },
     "execution_count": 24,
     "metadata": {},
     "output_type": "execute_result"
    }
   ],
   "source": [
    "m = data1[data1['ADI'].notna()]['ADI'].mode()[0]\n",
    "m"
   ]
  },
  {
   "cell_type": "code",
   "execution_count": 25,
   "id": "f645b4be",
   "metadata": {},
   "outputs": [],
   "source": [
    "data1['ADI'] = data1['ADI'].fillna(m)"
   ]
  },
  {
   "cell_type": "markdown",
   "id": "259bc54c",
   "metadata": {},
   "source": [
    "#### Replacing NULL values - MSA"
   ]
  },
  {
   "cell_type": "code",
   "execution_count": 19,
   "id": "548b7453",
   "metadata": {},
   "outputs": [
    {
     "data": {
      "text/plain": [
       "0.0       9734\n",
       "1600.0    2307\n",
       "4480.0    2185\n",
       "2160.0    1381\n",
       "520.0     1108\n",
       "          ... \n",
       "1303.0       1\n",
       "5523.0       1\n",
       "743.0        1\n",
       "1480.0       1\n",
       "7610.0       1\n",
       "Name: MSA, Length: 288, dtype: int64"
      ]
     },
     "execution_count": 19,
     "metadata": {},
     "output_type": "execute_result"
    }
   ],
   "source": [
    "data1['MSA'].value_counts(dropna=False)\n"
   ]
  },
  {
   "cell_type": "code",
   "execution_count": 31,
   "id": "5eacea20",
   "metadata": {},
   "outputs": [
    {
     "data": {
      "text/plain": [
       "0.0"
      ]
     },
     "execution_count": 31,
     "metadata": {},
     "output_type": "execute_result"
    }
   ],
   "source": [
    "m = data1[data1['MSA'].notna()]['MSA'].mode()[0]\n",
    "m"
   ]
  },
  {
   "cell_type": "markdown",
   "id": "3b4dca5b",
   "metadata": {},
   "source": [
    "#### Use appropriate EDA technique where ever necessary."
   ]
  },
  {
   "cell_type": "code",
   "execution_count": 26,
   "id": "aaace631",
   "metadata": {},
   "outputs": [],
   "source": [
    "# lets try to observe different distributions"
   ]
  },
  {
   "cell_type": "code",
   "execution_count": 27,
   "id": "9c1028e0",
   "metadata": {},
   "outputs": [
    {
     "data": {
      "text/plain": [
       "<AxesSubplot:>"
      ]
     },
     "execution_count": 27,
     "metadata": {},
     "output_type": "execute_result"
    },
    {
     "data": {
      "image/png": "[encoded data removed]",
      "text/plain": [
       "<Figure size 432x288 with 1 Axes>"
      ]
     },
     "metadata": {},
     "output_type": "display_data"
    }
   ],
   "source": [
    "sns.set()\n",
    "data1['GEOCODE2'].hist()"
   ]
  },
  {
   "cell_type": "code",
   "execution_count": 28,
   "id": "07b0c248",
   "metadata": {},
   "outputs": [
    {
     "data": {
      "text/plain": [
       "<AxesSubplot:>"
      ]
     },
     "execution_count": 28,
     "metadata": {},
     "output_type": "execute_result"
    },
    {
     "data": {
      "image/png": "[encoded data removed]",
      "text/plain": [
       "<Figure size 432x288 with 1 Axes>"
      ]
     },
     "metadata": {},
     "output_type": "display_data"
    }
   ],
   "source": [
    "sns.set()\n",
    "#fig, axes = plt.subplots(1, 2)\n",
    "#sns.distplot(data=data1['WEALTH1'], x='X', y='counts', ax=axes[0])\n",
    "#sns.distplot(data=binned_data, x='X', y='counts', ax=axes[1])\n",
    "\n",
    "# without binning\n",
    "data1['WEALTH1'].hist()"
   ]
  },
  {
   "cell_type": "code",
   "execution_count": 23,
   "id": "0b675335",
   "metadata": {},
   "outputs": [
    {
     "data": {
      "text/plain": [
       "<AxesSubplot:>"
      ]
     },
     "execution_count": 23,
     "metadata": {},
     "output_type": "execute_result"
    },
    {
     "data": {
      "image/png": "[encoded data removed]",
      "text/plain": [
       "<Figure size 432x288 with 1 Axes>"
      ]
     },
     "metadata": {},
     "output_type": "display_data"
    }
   ],
   "source": [
    "# with binning\n",
    "# binned_data = data1['WEALTH1'].value_counts(bins=3)\n",
    "binned_data.hist()\n"
   ]
  },
  {
   "cell_type": "code",
   "execution_count": 29,
   "id": "8a3ff7e4",
   "metadata": {},
   "outputs": [
    {
     "data": {
      "text/plain": [
       "array([[<AxesSubplot:title={'center':'ADI'}>]], dtype=object)"
      ]
     },
     "execution_count": 29,
     "metadata": {},
     "output_type": "execute_result"
    },
    {
     "data": {
      "image/png": "[encoded data removed]",
      "text/plain": [
       "<Figure size 432x288 with 1 Axes>"
      ]
     },
     "metadata": {},
     "output_type": "display_data"
    }
   ],
   "source": [
    "sns.set()\n",
    "data1[['ADI']].hist()"
   ]
  },
  {
   "cell_type": "code",
   "execution_count": 32,
   "id": "1c0e13b4",
   "metadata": {},
   "outputs": [
    {
     "data": {
      "text/plain": [
       "array([[<AxesSubplot:title={'center':'MSA'}>]], dtype=object)"
      ]
     },
     "execution_count": 32,
     "metadata": {},
     "output_type": "execute_result"
    },
    {
     "data": {
      "image/png": "[encoded data removed]",
      "text/plain": [
       "<Figure size 432x288 with 1 Axes>"
      ]
     },
     "metadata": {},
     "output_type": "display_data"
    }
   ],
   "source": [
    "sns.set()\n",
    "data1[['MSA']].hist()"
   ]
  },
  {
   "cell_type": "code",
   "execution_count": 95,
   "id": "89479082",
   "metadata": {},
   "outputs": [
    {
     "data": {
      "text/plain": [
       "<AxesSubplot:>"
      ]
     },
     "execution_count": 95,
     "metadata": {},
     "output_type": "execute_result"
    },
    {
     "data": {
      "image/png": "[encoded data removed]",
      "text/plain": [
       "<Figure size 432x288 with 1 Axes>"
      ]
     },
     "metadata": {},
     "output_type": "display_data"
    }
   ],
   "source": [
    "sns.set()\n",
    "data1['MSA'].hist()"
   ]
  },
  {
   "cell_type": "markdown",
   "id": "a4c87a2d",
   "metadata": {},
   "source": [
    "#### Resources"
   ]
  },
  {
   "cell_type": "markdown",
   "id": "1aa8d94b",
   "metadata": {},
   "source": [
    "https://dfrieds.com/data-analysis/value-counts-python-pandas.html"
   ]
  }
 ],
 "metadata": {
  "kernelspec": {
   "display_name": "Python 3 (ipykernel)",
   "language": "python",
   "name": "python3"
  },
  "language_info": {
   "codemirror_mode": {
    "name": "ipython",
    "version": 3
   },
   "file_extension": ".py",
   "mimetype": "text/x-python",
   "name": "python",
   "nbconvert_exporter": "python",
   "pygments_lexer": "ipython3",
   "version": "3.9.12"
  }
 },
 "nbformat": 4,
 "nbformat_minor": 5
}
